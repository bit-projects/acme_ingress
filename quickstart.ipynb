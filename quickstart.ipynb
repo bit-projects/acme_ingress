{
 "cells": [
  {
   "cell_type": "markdown",
   "metadata": {
    "colab_type": "text",
    "id": "ULdrhOaVbsdO"
   },
   "source": [
    "# Acme: Quickstart\n",
    "## Guide to installing Acme and training your first D4PG agent.\n",
    "# <a href=\"https://colab.research.google.com/github/deepmind/acme/blob/master/examples/quickstart.ipynb\" target=\"_parent\"><img src=\"https://colab.research.google.com/assets/colab-badge.svg\" alt=\"Open In Colab\"/></a>\n",
    "\n"
   ]
  },
  {
   "cell_type": "markdown",
   "metadata": {
    "colab_type": "text",
    "id": "ogw2P040-F5P"
   },
   "source": [
    "## Select your environment library\n",
    "Note: `dm_control` requires a valid Mujoco license."
   ]
  },
  {
   "cell_type": "code",
   "execution_count": 1,
   "metadata": {
    "cellView": "form",
    "colab": {},
    "colab_type": "code",
    "id": "xflSXJPS8Qpm"
   },
   "outputs": [],
   "source": [
    "environment_library = 'gym'  # @param ['dm_control', 'gym']"
   ]
  },
  {
   "cell_type": "markdown",
   "metadata": {
    "colab_type": "text",
    "id": "U0UfMBOL_T2l"
   },
   "source": [
    "## Add your Mujoco license here\n",
    "Note: only required for `dm_control`."
   ]
  },
  {
   "cell_type": "code",
   "execution_count": null,
   "metadata": {
    "colab": {},
    "colab_type": "code",
    "id": "QbCY7t4--eOd"
   },
   "outputs": [],
   "source": [
    "mjkey = \"\"\"\n",
    "\"\"\".strip()\n",
    "\n",
    "if not mjkey and environment_library == 'dm_control':\n",
    "  raise ValueError(\n",
    "      'A Mujoco license is required for `dm_control`, if you do not have on '\n",
    "      'consider selecting `gym` from the dropdown menu in the cell above.')"
   ]
  },
  {
   "cell_type": "markdown",
   "metadata": {
    "colab_type": "text",
    "id": "xaJxoatMhJ71"
   },
   "source": [
    "## Installation"
   ]
  },
  {
   "cell_type": "markdown",
   "metadata": {
    "colab_type": "text",
    "id": "ovuCuHCC78Zu"
   },
   "source": [
    "### Install Acme"
   ]
  },
  {
   "cell_type": "code",
   "execution_count": null,
   "metadata": {
    "cellView": "both",
    "colab": {},
    "colab_type": "code",
    "id": "KH3O0zcXUeun"
   },
   "outputs": [],
   "source": [
    "!pip install dm-acme\n",
    "!pip install dm-acme[reverb]\n",
    "!pip install dm-acme[tf]"
   ]
  },
  {
   "cell_type": "markdown",
   "metadata": {
    "colab_type": "text",
    "id": "VEEj3Qw60y73"
   },
   "source": [
    "### Install the environment library\n",
    "\n",
    "Without a valid license you won't be able to use the `dm_control` environments but can still follow this colab using the `gym` environments.\n",
    "\n",
    "If you have a personal Mujoco license (_not_ an institutional one), you may \n",
    "need to follow the instructions at https://research.google.com/colaboratory/local-runtimes.html to run a Jupyter kernel on your local machine.\n",
    "This will allow you to install `dm_control` by following instructions in\n",
    "https://github.com/deepmind/dm_control and using a personal MuJoCo license.\n"
   ]
  },
  {
   "cell_type": "code",
   "execution_count": 2,
   "metadata": {
    "cellView": "both",
    "colab": {},
    "colab_type": "code",
    "id": "IbZxYDxzoz5R"
   },
   "outputs": [
    {
     "name": "stdout",
     "output_type": "stream",
     "text": [
      "Requirement already satisfied: gym in /home/templarares/acmeNew/lib/python3.7/site-packages (0.10.11)\n",
      "Requirement already satisfied: requests>=2.0 in /home/templarares/acmeNew/lib/python3.7/site-packages (from gym) (2.26.0)\n",
      "Requirement already satisfied: scipy in /home/templarares/acmeNew/lib/python3.7/site-packages (from gym) (1.7.3)\n",
      "Requirement already satisfied: six in /home/templarares/acmeNew/lib/python3.7/site-packages (from gym) (1.16.0)\n",
      "Requirement already satisfied: pyglet>=1.2.0 in /home/templarares/acmeNew/lib/python3.7/site-packages (from gym) (1.3.2)\n",
      "Requirement already satisfied: numpy>=1.10.4 in /home/templarares/acmeNew/lib/python3.7/site-packages (from gym) (1.21.4)\n",
      "Requirement already satisfied: future in /home/templarares/acmeNew/lib/python3.7/site-packages (from pyglet>=1.2.0->gym) (0.18.2)\n",
      "Requirement already satisfied: idna<4,>=2.5 in /home/templarares/acmeNew/lib/python3.7/site-packages (from requests>=2.0->gym) (3.3)\n",
      "Requirement already satisfied: certifi>=2017.4.17 in /home/templarares/acmeNew/lib/python3.7/site-packages (from requests>=2.0->gym) (2021.10.8)\n",
      "Requirement already satisfied: urllib3<1.27,>=1.21.1 in /home/templarares/acmeNew/lib/python3.7/site-packages (from requests>=2.0->gym) (1.26.7)\n",
      "Requirement already satisfied: charset-normalizer~=2.0.0 in /home/templarares/acmeNew/lib/python3.7/site-packages (from requests>=2.0->gym) (2.0.9)\n"
     ]
    }
   ],
   "source": [
    "#@test {\"skip\": true}\n",
    "if environment_library == 'dm_control':\n",
    "  mujoco_dir = \"$HOME/.mujoco\"\n",
    "\n",
    "  # Install OpenGL dependencies\n",
    "  !apt-get update && apt-get install -y --no-install-recommends \\\n",
    "    libgl1-mesa-glx libosmesa6 libglew2.0\n",
    "\n",
    "  # Get MuJoCo binaries\n",
    "  !wget -q https://www.roboti.us/download/mujoco200_linux.zip -O mujoco.zip\n",
    "  !unzip -o -q mujoco.zip -d \"$mujoco_dir\"\n",
    "\n",
    "  # Copy over MuJoCo license\n",
    "  !echo \"$mjkey\" > \"$mujoco_dir/mjkey.txt\"\n",
    "\n",
    "  # Install dm_control\n",
    "  !pip install dm_control\n",
    "\n",
    "  # Configure dm_control to use the OSMesa rendering backend\n",
    "  %env MUJOCO_GL=osmesa\n",
    "\n",
    "  # Check that the installation succeeded\n",
    "  try:\n",
    "    from dm_control import suite\n",
    "    env = suite.load('cartpole', 'swingup')\n",
    "    pixels = env.physics.render()\n",
    "  except Exception as e:\n",
    "    raise RuntimeError(\n",
    "        'Something went wrong during installation. Check the shell output above '\n",
    "        'for more information. If you do not have a valid Mujoco license, '\n",
    "        'consider selecting `gym` in the dropdown menu at the top of this '\n",
    "        'Colab.') from e\n",
    "  else:\n",
    "    del suite, env, pixels\n",
    "\n",
    "elif environment_library == 'gym':\n",
    "  !pip install gym"
   ]
  },
  {
   "cell_type": "markdown",
   "metadata": {
    "colab_type": "text",
    "id": "Cl8eyWblSs-z"
   },
   "source": [
    "### Install visualization packages"
   ]
  },
  {
   "cell_type": "code",
   "execution_count": null,
   "metadata": {
    "colab": {},
    "colab_type": "code",
    "id": "aSM7KHDFSsQS"
   },
   "outputs": [],
   "source": [
    "!sudo apt-get install -y xvfb ffmpeg\n",
    "!pip install imageio\n",
    "!pip install PILLOW\n",
    "!pip install pyvirtualdisplay"
   ]
  },
  {
   "cell_type": "markdown",
   "metadata": {
    "colab_type": "text",
    "id": "c-H2d6UZi7Sf"
   },
   "source": [
    "## Import Modules"
   ]
  },
  {
   "cell_type": "code",
   "execution_count": 3,
   "metadata": {
    "cellView": "both",
    "colab": {},
    "colab_type": "code",
    "id": "HJ74Id-8MERq"
   },
   "outputs": [
    {
     "name": "stdout",
     "output_type": "stream",
     "text": [
      "\n",
      "\n"
     ]
    }
   ],
   "source": [
    "!unset http_proxy\n",
    "!unset https_proxy\n",
    "!echo $http_proxy\n",
    "!echo $https_proxy\n",
    "import IPython\n",
    "\n",
    "from acme import environment_loop\n",
    "from acme import specs\n",
    "from acme import wrappers\n",
    "from acme.agents.tf import d4pg\n",
    "from acme.tf import networks\n",
    "from acme.tf import utils as tf2_utils\n",
    "from acme.utils import loggers\n",
    "import numpy as np\n",
    "import sonnet as snt\n",
    "\n",
    "# Import the selected environment lib\n",
    "if environment_library == 'dm_control':\n",
    "  from dm_control import suite\n",
    "elif environment_library == 'gym':\n",
    "  import gym\n",
    "\n",
    "# Imports required for visualization\n",
    "import pyvirtualdisplay\n",
    "import imageio\n",
    "import base64\n",
    "\n",
    "# Set up a virtual display for rendering.\n",
    "display = pyvirtualdisplay.Display(visible=0, size=(1400, 900)).start()"
   ]
  },
  {
   "cell_type": "markdown",
   "metadata": {
    "colab_type": "text",
    "id": "I6KuVGSk4uc9"
   },
   "source": [
    "## Load an environment\n",
    "\n",
    "We can now load an environment. In what follows we'll create an environment and grab the environment's specifications."
   ]
  },
  {
   "cell_type": "code",
   "execution_count": 4,
   "metadata": {
    "cellView": "both",
    "colab": {},
    "colab_type": "code",
    "id": "4PVlHtGF5yzt"
   },
   "outputs": [],
   "source": [
    "if environment_library == 'dm_control':\n",
    "  environment = suite.load('cartpole', 'balance')\n",
    "  \n",
    "elif environment_library == 'gym':\n",
    "  environment = gym.make('MountainCarContinuous-v0')\n",
    "  environment = wrappers.GymWrapper(environment)  # To dm_env interface.\n",
    "\n",
    "else:\n",
    "  raise ValueError(\n",
    "      \"Unknown environment library: {};\".format(environment_library) +\n",
    "      \"choose among ['dm_control', 'gym'].\")\n",
    "\n",
    "# Make sure the environment outputs single-precision floats.\n",
    "environment = wrappers.SinglePrecisionWrapper(environment)\n",
    "\n",
    "# Grab the spec of the environment.\n",
    "environment_spec = specs.make_environment_spec(environment)\n"
   ]
  },
  {
   "cell_type": "markdown",
   "metadata": {
    "colab_type": "text",
    "id": "BukOfOsmtSQn"
   },
   "source": [
    " ## Create a D4PG agent"
   ]
  },
  {
   "cell_type": "code",
   "execution_count": 5,
   "metadata": {
    "colab": {},
    "colab_type": "code",
    "id": "3Jcjk1w6oHVX"
   },
   "outputs": [],
   "source": [
    "#@title Build agent networks\n",
    "\n",
    "# Get total number of action dimensions from action spec.\n",
    "num_dimensions = np.prod(environment_spec.actions.shape, dtype=int)\n",
    "\n",
    "# Create the shared observation network; here simply a state-less operation.\n",
    "observation_network = tf2_utils.batch_concat\n",
    "\n",
    "# Create the deterministic policy network.\n",
    "policy_network = snt.Sequential([\n",
    "    networks.LayerNormMLP((256, 256, 256), activate_final=True),\n",
    "    networks.NearZeroInitializedLinear(num_dimensions),\n",
    "    networks.TanhToSpec(environment_spec.actions),\n",
    "])\n",
    "\n",
    "# Create the distributional critic network.\n",
    "critic_network = snt.Sequential([\n",
    "    # The multiplexer concatenates the observations/actions.\n",
    "    networks.CriticMultiplexer(),\n",
    "    networks.LayerNormMLP((512, 512, 256), activate_final=True),\n",
    "    networks.DiscreteValuedHead(vmin=-150., vmax=150., num_atoms=51),\n",
    "])\n"
   ]
  },
  {
   "cell_type": "code",
   "execution_count": 6,
   "metadata": {
    "colab": {},
    "colab_type": "code",
    "id": "9CD2sNK-oA9S"
   },
   "outputs": [
    {
     "name": "stderr",
     "output_type": "stream",
     "text": [
      "[reverb/cc/platform/tfrecord_checkpointer.cc:150]  Initializing TFRecordCheckpointer in /tmp/tmpfib77imy.\n",
      "[reverb/cc/platform/tfrecord_checkpointer.cc:386] Loading latest checkpoint from /tmp/tmpfib77imy\n",
      "[reverb/cc/platform/default/server.cc:71] Started replay server on port 24442\n",
      "2021-12-14 15:20:40.245526: W tensorflow/python/util/util.cc:368] Sets are not currently considered sequences, but this may change in the future, so consider avoiding using them.\n"
     ]
    }
   ],
   "source": [
    "# Create a logger for the agent and environment loop.\n",
    "agent_logger = loggers.TerminalLogger(label='agent', time_delta=10.)\n",
    "env_loop_logger = loggers.TerminalLogger(label='env_loop', time_delta=10.)\n",
    "\n",
    "# Create the D4PG agent.\n",
    "agent = d4pg.D4PG(\n",
    "    environment_spec=environment_spec,\n",
    "    policy_network=policy_network,\n",
    "    critic_network=critic_network,\n",
    "    observation_network=observation_network,\n",
    "    sigma=1.0,\n",
    "    logger=agent_logger,\n",
    "    checkpoint=False\n",
    ")\n",
    "\n",
    "# Create an loop connecting this agent to the environment created above.\n",
    "env_loop = environment_loop.EnvironmentLoop(\n",
    "    environment, agent, logger=env_loop_logger)"
   ]
  },
  {
   "cell_type": "markdown",
   "metadata": {
    "colab_type": "text",
    "id": "oKeGQxzitXYC"
   },
   "source": [
    "## Run a training loop"
   ]
  },
  {
   "cell_type": "code",
   "execution_count": 7,
   "metadata": {
    "colab": {},
    "colab_type": "code",
    "id": "VWZd5N-Qoz82"
   },
   "outputs": [
    {
     "name": "stdout",
     "output_type": "stream",
     "text": [
      "WARNING:tensorflow:Calling GradientTape.gradient on a persistent tape inside its context is significantly less efficient than calling it outside the context (it causes the gradient ops to be recorded on the tape, leading to increased CPU and memory usage). Only call GradientTape.gradient inside the context if you actually want to trace the gradient in order to compute higher order derivatives.\n"
     ]
    },
    {
     "name": "stderr",
     "output_type": "stream",
     "text": [
      "[reverb/cc/client.cc:163] Sampler and server are owned by the same process (19325) so Table priority_table is accessed directly without gRPC.\n",
      "[reverb/cc/client.cc:163] Sampler and server are owned by the same process (19325) so Table priority_table is accessed directly without gRPC.\n",
      "[reverb/cc/client.cc:163] Sampler and server are owned by the same process (19325) so Table priority_table is accessed directly without gRPC.\n",
      "[reverb/cc/client.cc:163] Sampler and server are owned by the same process (19325) so Table priority_table is accessed directly without gRPC.\n"
     ]
    }
   ],
   "source": [
    "# Run a `num_episodes` training episodes.\n",
    "# Rerun this cell until the agent has learned the given task.\n",
    "env_loop.run(num_episodes=100)"
   ]
  },
  {
   "cell_type": "markdown",
   "metadata": {
    "colab_type": "text",
    "id": "Do57Ql4ZsWDu"
   },
   "source": [
    "## Visualize an evaluation loop\n"
   ]
  },
  {
   "cell_type": "markdown",
   "metadata": {
    "colab_type": "text",
    "id": "BJXkfg6LSZ-h"
   },
   "source": [
    "### Helper functions for rendering and vizualization"
   ]
  },
  {
   "cell_type": "code",
   "execution_count": 8,
   "metadata": {
    "colab": {},
    "colab_type": "code",
    "id": "OIJRbtAlxQVu"
   },
   "outputs": [],
   "source": [
    "# Create a simple helper function to render a frame from the current state of\n",
    "# the environment.\n",
    "if environment_library == 'dm_control':\n",
    "  def render(env):\n",
    "    return env.physics.render(camera_id=0)\n",
    "elif environment_library == 'gym':\n",
    "  def render(env):\n",
    "    return env.environment.render(mode='rgb_array')\n",
    "else:\n",
    "  raise ValueError(\n",
    "      \"Unknown environment library: {};\".format(environment_library) +\n",
    "      \"choose among ['dm_control', 'gym'].\")\n",
    "\n",
    "def display_video(frames, filename='temp.mp4'):\n",
    "  \"\"\"Save and display video.\"\"\"\n",
    "\n",
    "  # Write video\n",
    "  with imageio.get_writer(filename, fps=60) as video:\n",
    "    for frame in frames:\n",
    "      video.append_data(frame)\n",
    "\n",
    "  # Read video and display the video\n",
    "  video = open(filename, 'rb').read()\n",
    "  b64_video = base64.b64encode(video)\n",
    "  video_tag = ('<video  width=\"320\" height=\"240\" controls alt=\"test\" '\n",
    "               'src=\"data:video/mp4;base64,{0}\">').format(b64_video.decode())\n",
    "\n",
    "  return IPython.display.HTML(video_tag)"
   ]
  },
  {
   "cell_type": "markdown",
   "metadata": {
    "colab_type": "text",
    "id": "Rh8x46UKSf2c"
   },
   "source": [
    "### Run and visualize the agent in the environment for an episode"
   ]
  },
  {
   "cell_type": "code",
   "execution_count": 9,
   "metadata": {
    "colab": {},
    "colab_type": "code",
    "id": "2__mFiraWND1"
   },
   "outputs": [
    {
     "name": "stderr",
     "output_type": "stream",
     "text": [
      "WARNING:imageio_ffmpeg:IMAGEIO FFMPEG_WRITER WARNING: input image is not divisible by macro_block_size=16, resizing from (600, 400) to (608, 400) to ensure video compatibility with most codecs and players. To prevent resizing, make your input image divisible by the macro_block_size or set the macro_block_size to 1 (risking incompatibility).\n",
      "[swscaler @ 0x591c440] Warning: data is not aligned! This can lead to a speed loss\n"
     ]
    },
    {
     "data": {
      "text/html": [
       "<video  width=\"320\" height=\"240\" controls alt=\"test\" src=\"data:video/mp4;base64,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\">"
      ],
      "text/plain": [
       "<IPython.core.display.HTML object>"
      ]
     },
     "execution_count": 9,
     "metadata": {},
     "output_type": "execute_result"
    }
   ],
   "source": [
    "timestep = environment.reset()\n",
    "frames = [render(environment)]\n",
    "\n",
    "while not timestep.last():\n",
    "  # Simple environment loop.\n",
    "  action = agent.select_action(timestep.observation)\n",
    "  timestep = environment.step(action)\n",
    "\n",
    "  # Render the scene and add it to the frame stack.\n",
    "  frames.append(render(environment))\n",
    "\n",
    "# Save and display a video of the behaviour.\n",
    "display_video(np.array(frames))"
   ]
  },
  {
   "cell_type": "code",
   "execution_count": null,
   "metadata": {},
   "outputs": [],
   "source": []
  }
 ],
 "metadata": {
  "colab": {
   "collapsed_sections": [],
   "name": "Acme: Quickstart",
   "provenance": []
  },
  "kernelspec": {
   "display_name": "acmeNew",
   "language": "python",
   "name": "acmenew"
  },
  "language_info": {
   "codemirror_mode": {
    "name": "ipython",
    "version": 3
   },
   "file_extension": ".py",
   "mimetype": "text/x-python",
   "name": "python",
   "nbconvert_exporter": "python",
   "pygments_lexer": "ipython3",
   "version": "3.7.5"
  }
 },
 "nbformat": 4,
 "nbformat_minor": 1
}
